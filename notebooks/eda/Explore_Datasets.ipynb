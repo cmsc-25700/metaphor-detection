{
 "cells": [
  {
   "cell_type": "markdown",
   "id": "b4b7fd79",
   "metadata": {},
   "source": [
    "# Demo of using ExperimentData class to get datasets"
   ]
  },
  {
   "cell_type": "code",
   "execution_count": 1,
   "id": "3397e374",
   "metadata": {},
   "outputs": [],
   "source": [
    "import os\n",
    "import sys\n",
    "parent_dr = os.path.split(os.getcwd())[0]\n",
    "if parent_dr not in sys.path:\n",
    "    sys.path.append(parent_dr)"
   ]
  },
  {
   "cell_type": "code",
   "execution_count": 2,
   "id": "e1d7c53f",
   "metadata": {},
   "outputs": [],
   "source": [
    "from core.data.gao_data import *"
   ]
  },
  {
   "cell_type": "code",
   "execution_count": 3,
   "id": "509344ae",
   "metadata": {},
   "outputs": [],
   "source": [
    "pd.set_option('display.max_colwidth', None)"
   ]
  },
  {
   "cell_type": "code",
   "execution_count": 4,
   "id": "48fce3e0",
   "metadata": {},
   "outputs": [
    {
     "name": "stdout",
     "output_type": "stream",
     "text": [
      "Data directory: ../resources/metaphor-in-context/data\n"
     ]
    }
   ],
   "source": [
    "# gao et all data directory\n",
    "data_dir = os.path.join(\"..\",\"resources\", \"metaphor-in-context\", \"data\")\n",
    "print(f\"Data directory: {data_dir}\")"
   ]
  },
  {
   "cell_type": "code",
   "execution_count": 5,
   "id": "b8e5f261",
   "metadata": {},
   "outputs": [],
   "source": [
    "data_container = ExperimentData(data_dir)"
   ]
  },
  {
   "cell_type": "markdown",
   "id": "470a51b9",
   "metadata": {},
   "source": [
    "## MOH Dataset"
   ]
  },
  {
   "cell_type": "code",
   "execution_count": 6,
   "id": "8a67b745",
   "metadata": {},
   "outputs": [
    {
     "name": "stdout",
     "output_type": "stream",
     "text": [
      "MOH formatted nrow: 1603\n",
      "MOH train nrow: 1283\n",
      "MOH test nrow: 160\n",
      "MOH val nrow: 160\n"
     ]
    }
   ],
   "source": [
    "data_container.read_moh_data(to_pandas=True)"
   ]
  },
  {
   "cell_type": "code",
   "execution_count": 7,
   "id": "68ff006b",
   "metadata": {},
   "outputs": [
    {
     "data": {
      "text/html": [
       "<div>\n",
       "<style scoped>\n",
       "    .dataframe tbody tr th:only-of-type {\n",
       "        vertical-align: middle;\n",
       "    }\n",
       "\n",
       "    .dataframe tbody tr th {\n",
       "        vertical-align: top;\n",
       "    }\n",
       "\n",
       "    .dataframe thead th {\n",
       "        text-align: right;\n",
       "    }\n",
       "</style>\n",
       "<table border=\"1\" class=\"dataframe\">\n",
       "  <thead>\n",
       "    <tr style=\"text-align: right;\">\n",
       "      <th></th>\n",
       "      <th>verb</th>\n",
       "      <th>sentence</th>\n",
       "      <th>verb_idx</th>\n",
       "      <th>label</th>\n",
       "    </tr>\n",
       "  </thead>\n",
       "  <tbody>\n",
       "    <tr>\n",
       "      <th>0</th>\n",
       "      <td>absorb</td>\n",
       "      <td>He absorbed the knowledge or beliefs of his tribe .</td>\n",
       "      <td>1</td>\n",
       "      <td>1</td>\n",
       "    </tr>\n",
       "    <tr>\n",
       "      <th>1</th>\n",
       "      <td>absorb</td>\n",
       "      <td>He absorbed the costs for the accident .</td>\n",
       "      <td>1</td>\n",
       "      <td>1</td>\n",
       "    </tr>\n",
       "    <tr>\n",
       "      <th>2</th>\n",
       "      <td>absorb</td>\n",
       "      <td>The sales tax is absorbed into the state income tax .</td>\n",
       "      <td>4</td>\n",
       "      <td>1</td>\n",
       "    </tr>\n",
       "    <tr>\n",
       "      <th>3</th>\n",
       "      <td>absorb</td>\n",
       "      <td>The immigrants were quickly absorbed into society .</td>\n",
       "      <td>4</td>\n",
       "      <td>1</td>\n",
       "    </tr>\n",
       "    <tr>\n",
       "      <th>4</th>\n",
       "      <td>absorb</td>\n",
       "      <td>Her interest in butterflies absorbs her completely .</td>\n",
       "      <td>4</td>\n",
       "      <td>1</td>\n",
       "    </tr>\n",
       "  </tbody>\n",
       "</table>\n",
       "</div>"
      ],
      "text/plain": [
       "     verb                                               sentence  verb_idx  \\\n",
       "0  absorb    He absorbed the knowledge or beliefs of his tribe .         1   \n",
       "1  absorb               He absorbed the costs for the accident .         1   \n",
       "2  absorb  The sales tax is absorbed into the state income tax .         4   \n",
       "3  absorb    The immigrants were quickly absorbed into society .         4   \n",
       "4  absorb   Her interest in butterflies absorbs her completely .         4   \n",
       "\n",
       "   label  \n",
       "0      1  \n",
       "1      1  \n",
       "2      1  \n",
       "3      1  \n",
       "4      1  "
      ]
     },
     "execution_count": 7,
     "metadata": {},
     "output_type": "execute_result"
    }
   ],
   "source": [
    "data_container.moh_formatted.head()"
   ]
  },
  {
   "cell_type": "code",
   "execution_count": 8,
   "id": "359052ec",
   "metadata": {},
   "outputs": [
    {
     "data": {
      "text/plain": [
       "verb         436\n",
       "sentence    1602\n",
       "verb_idx      15\n",
       "label          2\n",
       "dtype: int64"
      ]
     },
     "execution_count": 8,
     "metadata": {},
     "output_type": "execute_result"
    }
   ],
   "source": [
    "data_container.moh_formatted.nunique()"
   ]
  },
  {
   "cell_type": "code",
   "execution_count": 9,
   "id": "064d60bc",
   "metadata": {},
   "outputs": [
    {
     "data": {
      "text/plain": [
       "0.24890829694323144"
      ]
     },
     "execution_count": 9,
     "metadata": {},
     "output_type": "execute_result"
    }
   ],
   "source": [
    "data_container.moh_formatted['label'].mean()"
   ]
  },
  {
   "cell_type": "markdown",
   "id": "d3c26612",
   "metadata": {},
   "source": [
    "## MOH-X Dataset"
   ]
  },
  {
   "cell_type": "code",
   "execution_count": 10,
   "id": "7f94b937",
   "metadata": {},
   "outputs": [
    {
     "name": "stdout",
     "output_type": "stream",
     "text": [
      "MOH-X formatted svo nrow: 647\n",
      "MOH-X formatted svo cleaned nrow: 647\n"
     ]
    }
   ],
   "source": [
    "data_container.read_moh_x_data(to_pandas=True)"
   ]
  },
  {
   "cell_type": "code",
   "execution_count": 11,
   "id": "47f9444c",
   "metadata": {},
   "outputs": [
    {
     "data": {
      "text/html": [
       "<div>\n",
       "<style scoped>\n",
       "    .dataframe tbody tr th:only-of-type {\n",
       "        vertical-align: middle;\n",
       "    }\n",
       "\n",
       "    .dataframe tbody tr th {\n",
       "        vertical-align: top;\n",
       "    }\n",
       "\n",
       "    .dataframe thead th {\n",
       "        text-align: right;\n",
       "    }\n",
       "</style>\n",
       "<table border=\"1\" class=\"dataframe\">\n",
       "  <thead>\n",
       "    <tr style=\"text-align: right;\">\n",
       "      <th></th>\n",
       "      <th>arg1</th>\n",
       "      <th>arg2</th>\n",
       "      <th>verb</th>\n",
       "      <th>sentence</th>\n",
       "      <th>verb_idx</th>\n",
       "      <th>label</th>\n",
       "    </tr>\n",
       "  </thead>\n",
       "  <tbody>\n",
       "    <tr>\n",
       "      <th>0</th>\n",
       "      <td>knowledge</td>\n",
       "      <td>NaN</td>\n",
       "      <td>absorb</td>\n",
       "      <td>He absorbed the knowledge or beliefs of his tribe .</td>\n",
       "      <td>1</td>\n",
       "      <td>1</td>\n",
       "    </tr>\n",
       "    <tr>\n",
       "      <th>1</th>\n",
       "      <td>cost</td>\n",
       "      <td>NaN</td>\n",
       "      <td>absorb</td>\n",
       "      <td>He absorbed the costs for the accident .</td>\n",
       "      <td>1</td>\n",
       "      <td>1</td>\n",
       "    </tr>\n",
       "    <tr>\n",
       "      <th>2</th>\n",
       "      <td>tax</td>\n",
       "      <td>NaN</td>\n",
       "      <td>absorb</td>\n",
       "      <td>The sales tax is absorbed into the state income tax .</td>\n",
       "      <td>4</td>\n",
       "      <td>1</td>\n",
       "    </tr>\n",
       "    <tr>\n",
       "      <th>3</th>\n",
       "      <td>immigrant</td>\n",
       "      <td>NaN</td>\n",
       "      <td>absorb</td>\n",
       "      <td>The immigrants were quickly absorbed into society .</td>\n",
       "      <td>4</td>\n",
       "      <td>1</td>\n",
       "    </tr>\n",
       "    <tr>\n",
       "      <th>4</th>\n",
       "      <td>interest</td>\n",
       "      <td>NaN</td>\n",
       "      <td>absorb</td>\n",
       "      <td>Her interest in butterflies absorbs her completely .</td>\n",
       "      <td>4</td>\n",
       "      <td>1</td>\n",
       "    </tr>\n",
       "  </tbody>\n",
       "</table>\n",
       "</div>"
      ],
      "text/plain": [
       "        arg1  arg2    verb  \\\n",
       "0  knowledge   NaN  absorb   \n",
       "1       cost   NaN  absorb   \n",
       "2        tax   NaN  absorb   \n",
       "3  immigrant   NaN  absorb   \n",
       "4   interest   NaN  absorb   \n",
       "\n",
       "                                                 sentence  verb_idx  label  \n",
       "0     He absorbed the knowledge or beliefs of his tribe .         1      1  \n",
       "1                He absorbed the costs for the accident .         1      1  \n",
       "2   The sales tax is absorbed into the state income tax .         4      1  \n",
       "3     The immigrants were quickly absorbed into society .         4      1  \n",
       "4    Her interest in butterflies absorbs her completely .         4      1  "
      ]
     },
     "execution_count": 11,
     "metadata": {},
     "output_type": "execute_result"
    }
   ],
   "source": [
    "data_container.moh_x_formatted_svo_cleaned.head()"
   ]
  },
  {
   "cell_type": "code",
   "execution_count": 12,
   "id": "593c196a",
   "metadata": {},
   "outputs": [
    {
     "data": {
      "text/plain": [
       "arg1        453\n",
       "arg2          0\n",
       "verb        214\n",
       "sentence    641\n",
       "verb_idx     13\n",
       "label         2\n",
       "dtype: int64"
      ]
     },
     "execution_count": 12,
     "metadata": {},
     "output_type": "execute_result"
    }
   ],
   "source": [
    "data_container.moh_x_formatted_svo_cleaned.nunique()"
   ]
  },
  {
   "cell_type": "code",
   "execution_count": 13,
   "id": "2f2b5a1b",
   "metadata": {},
   "outputs": [
    {
     "data": {
      "text/plain": [
       "0.4868624420401855"
      ]
     },
     "execution_count": 13,
     "metadata": {},
     "output_type": "execute_result"
    }
   ],
   "source": [
    "data_container.moh_x_formatted_svo_cleaned['label'].mean()"
   ]
  },
  {
   "cell_type": "markdown",
   "id": "3cd4a447",
   "metadata": {},
   "source": [
    "## TroFi Dataset"
   ]
  },
  {
   "cell_type": "code",
   "execution_count": 14,
   "id": "9340f106",
   "metadata": {},
   "outputs": [
    {
     "name": "stdout",
     "output_type": "stream",
     "text": [
      "TroFi formatted_all3737 nrow: 3737\n"
     ]
    }
   ],
   "source": [
    "data_container.read_trofi_data(to_pandas=True)"
   ]
  },
  {
   "cell_type": "code",
   "execution_count": 15,
   "id": "66c0480a",
   "metadata": {},
   "outputs": [
    {
     "data": {
      "text/html": [
       "<div>\n",
       "<style scoped>\n",
       "    .dataframe tbody tr th:only-of-type {\n",
       "        vertical-align: middle;\n",
       "    }\n",
       "\n",
       "    .dataframe tbody tr th {\n",
       "        vertical-align: top;\n",
       "    }\n",
       "\n",
       "    .dataframe thead th {\n",
       "        text-align: right;\n",
       "    }\n",
       "</style>\n",
       "<table border=\"1\" class=\"dataframe\">\n",
       "  <thead>\n",
       "    <tr style=\"text-align: right;\">\n",
       "      <th></th>\n",
       "      <th>verb</th>\n",
       "      <th>sentence</th>\n",
       "      <th>verb_idx</th>\n",
       "      <th>label</th>\n",
       "    </tr>\n",
       "  </thead>\n",
       "  <tbody>\n",
       "    <tr>\n",
       "      <th>0</th>\n",
       "      <td>absorb</td>\n",
       "      <td>An Energy Department spokesman says the sulfur dioxide might be simultaneously recoverable through the use of powdered limestone , which tends to absorb the sulfur</td>\n",
       "      <td>22</td>\n",
       "      <td>0</td>\n",
       "    </tr>\n",
       "    <tr>\n",
       "      <th>1</th>\n",
       "      <td>absorb</td>\n",
       "      <td>The yellow beta carotene pigment absorbs blue -LRB- not yellow -RRB- laser light</td>\n",
       "      <td>5</td>\n",
       "      <td>0</td>\n",
       "    </tr>\n",
       "    <tr>\n",
       "      <th>2</th>\n",
       "      <td>absorb</td>\n",
       "      <td>This time , the ground absorbed the shock waves enough to transfer her images to the metal in bas - relief</td>\n",
       "      <td>5</td>\n",
       "      <td>0</td>\n",
       "    </tr>\n",
       "    <tr>\n",
       "      <th>3</th>\n",
       "      <td>absorb</td>\n",
       "      <td>'' Vitamins could be passed right out of the body without being absorbed , '' he says</td>\n",
       "      <td>12</td>\n",
       "      <td>0</td>\n",
       "    </tr>\n",
       "    <tr>\n",
       "      <th>4</th>\n",
       "      <td>absorb</td>\n",
       "      <td>As Eliot wrote : '' In a warm haze , the sultry light is absorbed , not refracted , by grey stone . . . . '' and flowers do indeed '' sleep in empty silence . '</td>\n",
       "      <td>14</td>\n",
       "      <td>0</td>\n",
       "    </tr>\n",
       "  </tbody>\n",
       "</table>\n",
       "</div>"
      ],
      "text/plain": [
       "     verb  \\\n",
       "0  absorb   \n",
       "1  absorb   \n",
       "2  absorb   \n",
       "3  absorb   \n",
       "4  absorb   \n",
       "\n",
       "                                                                                                                                                               sentence  \\\n",
       "0  An Energy Department spokesman says the sulfur dioxide might be simultaneously recoverable through the use of powdered limestone , which tends to absorb the sulfur    \n",
       "1                                                                                     The yellow beta carotene pigment absorbs blue -LRB- not yellow -RRB- laser light    \n",
       "2                                                           This time , the ground absorbed the shock waves enough to transfer her images to the metal in bas - relief    \n",
       "3                                                                                '' Vitamins could be passed right out of the body without being absorbed , '' he says    \n",
       "4      As Eliot wrote : '' In a warm haze , the sultry light is absorbed , not refracted , by grey stone . . . . '' and flowers do indeed '' sleep in empty silence . '   \n",
       "\n",
       "   verb_idx  label  \n",
       "0        22      0  \n",
       "1         5      0  \n",
       "2         5      0  \n",
       "3        12      0  \n",
       "4        14      0  "
      ]
     },
     "execution_count": 15,
     "metadata": {},
     "output_type": "execute_result"
    }
   ],
   "source": [
    "data_container.trofi_formatted_all.head()"
   ]
  },
  {
   "cell_type": "code",
   "execution_count": 16,
   "id": "d35c21bd",
   "metadata": {},
   "outputs": [
    {
     "data": {
      "text/plain": [
       "verb          50\n",
       "sentence    3603\n",
       "verb_idx      63\n",
       "label          2\n",
       "dtype: int64"
      ]
     },
     "execution_count": 16,
     "metadata": {},
     "output_type": "execute_result"
    }
   ],
   "source": [
    "data_container.trofi_formatted_all.nunique()"
   ]
  },
  {
   "cell_type": "code",
   "execution_count": 17,
   "id": "d4d33985",
   "metadata": {},
   "outputs": [
    {
     "data": {
      "text/plain": [
       "0.4353759700294354"
      ]
     },
     "execution_count": 17,
     "metadata": {},
     "output_type": "execute_result"
    }
   ],
   "source": [
    "data_container.trofi_formatted_all['label'].mean()"
   ]
  },
  {
   "cell_type": "markdown",
   "id": "0e05fdbd",
   "metadata": {},
   "source": [
    "## TroFi-X Dataset"
   ]
  },
  {
   "cell_type": "code",
   "execution_count": 18,
   "id": "a111a88b",
   "metadata": {},
   "outputs": [
    {
     "name": "stdout",
     "output_type": "stream",
     "text": [
      "TroFi-X formatted svo nrow: 1444\n"
     ]
    }
   ],
   "source": [
    "data_container.read_trofi_x_data(to_pandas=True)"
   ]
  },
  {
   "cell_type": "code",
   "execution_count": 19,
   "id": "684cd582",
   "metadata": {},
   "outputs": [
    {
     "data": {
      "text/html": [
       "<div>\n",
       "<style scoped>\n",
       "    .dataframe tbody tr th:only-of-type {\n",
       "        vertical-align: middle;\n",
       "    }\n",
       "\n",
       "    .dataframe tbody tr th {\n",
       "        vertical-align: top;\n",
       "    }\n",
       "\n",
       "    .dataframe thead th {\n",
       "        text-align: right;\n",
       "    }\n",
       "</style>\n",
       "<table border=\"1\" class=\"dataframe\">\n",
       "  <thead>\n",
       "    <tr style=\"text-align: right;\">\n",
       "      <th></th>\n",
       "      <th>arg1</th>\n",
       "      <th>arg2</th>\n",
       "      <th>verb</th>\n",
       "      <th>sentence</th>\n",
       "      <th>verb_stem</th>\n",
       "      <th>label</th>\n",
       "    </tr>\n",
       "  </thead>\n",
       "  <tbody>\n",
       "    <tr>\n",
       "      <th>0</th>\n",
       "      <td>mileage</td>\n",
       "      <td>struck</td>\n",
       "      <td>blow</td>\n",
       "      <td>Triple mileage has struck another blow to the coupon market .</td>\n",
       "      <td>strike</td>\n",
       "      <td>1</td>\n",
       "    </tr>\n",
       "    <tr>\n",
       "      <th>1</th>\n",
       "      <td>terrorist</td>\n",
       "      <td>attack</td>\n",
       "      <td>target</td>\n",
       "      <td>U.S. officials said evidence suggests that a Japanese terrorist arrested last month in New Jersey with homemade bombs was on his way to attack a target in New York City .</td>\n",
       "      <td>attack</td>\n",
       "      <td>0</td>\n",
       "    </tr>\n",
       "    <tr>\n",
       "      <th>2</th>\n",
       "      <td>forces</td>\n",
       "      <td>stepped</td>\n",
       "      <td>use</td>\n",
       "      <td>Some police forces , for example , have stepped up use of a 20-year-old system called Vascar -LRB- Vehicle and Speed Computed and Recorded -RRB- .</td>\n",
       "      <td>step</td>\n",
       "      <td>0</td>\n",
       "    </tr>\n",
       "    <tr>\n",
       "      <th>3</th>\n",
       "      <td>day</td>\n",
       "      <td>pour</td>\n",
       "      <td>stream</td>\n",
       "      <td>Every day his troops gather under the green , red and black banner of black nationalism and pour out a stream of racial abuse .</td>\n",
       "      <td>pour</td>\n",
       "      <td>0</td>\n",
       "    </tr>\n",
       "    <tr>\n",
       "      <th>4</th>\n",
       "      <td>manufacturers</td>\n",
       "      <td>rolling</td>\n",
       "      <td>products</td>\n",
       "      <td>He says manufacturers are increasingly rolling out questionable products that are n't fully researched , justified and tested .</td>\n",
       "      <td>roll</td>\n",
       "      <td>1</td>\n",
       "    </tr>\n",
       "  </tbody>\n",
       "</table>\n",
       "</div>"
      ],
      "text/plain": [
       "            arg1     arg2      verb  \\\n",
       "0        mileage   struck      blow   \n",
       "1      terrorist   attack    target   \n",
       "2         forces  stepped       use   \n",
       "3            day     pour    stream   \n",
       "4  manufacturers  rolling  products   \n",
       "\n",
       "                                                                                                                                                                     sentence  \\\n",
       "0                                                                                                               Triple mileage has struck another blow to the coupon market .   \n",
       "1  U.S. officials said evidence suggests that a Japanese terrorist arrested last month in New Jersey with homemade bombs was on his way to attack a target in New York City .   \n",
       "2                          Some police forces , for example , have stepped up use of a 20-year-old system called Vascar -LRB- Vehicle and Speed Computed and Recorded -RRB- .   \n",
       "3                                             Every day his troops gather under the green , red and black banner of black nationalism and pour out a stream of racial abuse .   \n",
       "4                                             He says manufacturers are increasingly rolling out questionable products that are n't fully researched , justified and tested .   \n",
       "\n",
       "  verb_stem  label  \n",
       "0    strike      1  \n",
       "1    attack      0  \n",
       "2      step      0  \n",
       "3      pour      0  \n",
       "4      roll      1  "
      ]
     },
     "execution_count": 19,
     "metadata": {},
     "output_type": "execute_result"
    }
   ],
   "source": [
    "data_container.trofi_x_formatted_svo.head()"
   ]
  },
  {
   "cell_type": "code",
   "execution_count": 20,
   "id": "b939c670",
   "metadata": {},
   "outputs": [
    {
     "data": {
      "text/plain": [
       "arg1          679\n",
       "arg2          152\n",
       "verb          857\n",
       "sentence     1233\n",
       "verb_stem      48\n",
       "label           2\n",
       "dtype: int64"
      ]
     },
     "execution_count": 20,
     "metadata": {},
     "output_type": "execute_result"
    }
   ],
   "source": [
    "data_container.trofi_x_formatted_svo.nunique()"
   ]
  },
  {
   "cell_type": "code",
   "execution_count": 21,
   "id": "9391af41",
   "metadata": {},
   "outputs": [
    {
     "data": {
      "text/plain": [
       "0.4162049861495845"
      ]
     },
     "execution_count": 21,
     "metadata": {},
     "output_type": "execute_result"
    }
   ],
   "source": [
    "data_container.trofi_x_formatted_svo['label'].mean()"
   ]
  },
  {
   "cell_type": "markdown",
   "id": "8763d2e8",
   "metadata": {},
   "source": [
    "## VUA Dataset"
   ]
  },
  {
   "cell_type": "code",
   "execution_count": 22,
   "id": "d2504c0c",
   "metadata": {},
   "outputs": [
    {
     "name": "stdout",
     "output_type": "stream",
     "text": [
      "VUA formatted nrow: 23113\n",
      "VUA train nrow: 15516\n",
      "VUA train augmented nrow: 116622\n",
      "VUA train no val nrow: 12541\n",
      "VUA test nrow: 5873\n",
      "VUA val nrow: 1724\n"
     ]
    }
   ],
   "source": [
    "data_container.read_vua_data(to_pandas=True)"
   ]
  },
  {
   "cell_type": "code",
   "execution_count": 23,
   "id": "ef1dc837",
   "metadata": {},
   "outputs": [
    {
     "data": {
      "text/html": [
       "<div>\n",
       "<style scoped>\n",
       "    .dataframe tbody tr th:only-of-type {\n",
       "        vertical-align: middle;\n",
       "    }\n",
       "\n",
       "    .dataframe tbody tr th {\n",
       "        vertical-align: top;\n",
       "    }\n",
       "\n",
       "    .dataframe thead th {\n",
       "        text-align: right;\n",
       "    }\n",
       "</style>\n",
       "<table border=\"1\" class=\"dataframe\">\n",
       "  <thead>\n",
       "    <tr style=\"text-align: right;\">\n",
       "      <th></th>\n",
       "      <th>text_idx</th>\n",
       "      <th>sentence_idx</th>\n",
       "      <th>verb</th>\n",
       "      <th>sentence</th>\n",
       "      <th>verb_idx</th>\n",
       "      <th>label</th>\n",
       "    </tr>\n",
       "  </thead>\n",
       "  <tbody>\n",
       "    <tr>\n",
       "      <th>0</th>\n",
       "      <td>a1h-fragment06</td>\n",
       "      <td>117</td>\n",
       "      <td>reflect</td>\n",
       "      <td>He was President of FISA ( Federation Internationale des Societes d'Aviron ) , the world governing body , for 30 years ; and most of this body 's attitudes and practices reflect the force of his strict , but genial personality .</td>\n",
       "      <td>31</td>\n",
       "      <td>1</td>\n",
       "    </tr>\n",
       "    <tr>\n",
       "      <th>1</th>\n",
       "      <td>a1h-fragment06</td>\n",
       "      <td>118</td>\n",
       "      <td>encounter</td>\n",
       "      <td>Most athletes first encountered him as a voice , bellowing in multi-lingual fury at officials who had broken rules or arrangements designed to make racing safer or more fair .</td>\n",
       "      <td>3</td>\n",
       "      <td>0</td>\n",
       "    </tr>\n",
       "    <tr>\n",
       "      <th>2</th>\n",
       "      <td>a1h-fragment06</td>\n",
       "      <td>118</td>\n",
       "      <td>bellow</td>\n",
       "      <td>Most athletes first encountered him as a voice , bellowing in multi-lingual fury at officials who had broken rules or arrangements designed to make racing safer or more fair .</td>\n",
       "      <td>9</td>\n",
       "      <td>1</td>\n",
       "    </tr>\n",
       "    <tr>\n",
       "      <th>3</th>\n",
       "      <td>a1h-fragment06</td>\n",
       "      <td>118</td>\n",
       "      <td>break</td>\n",
       "      <td>Most athletes first encountered him as a voice , bellowing in multi-lingual fury at officials who had broken rules or arrangements designed to make racing safer or more fair .</td>\n",
       "      <td>17</td>\n",
       "      <td>1</td>\n",
       "    </tr>\n",
       "    <tr>\n",
       "      <th>4</th>\n",
       "      <td>a1h-fragment06</td>\n",
       "      <td>118</td>\n",
       "      <td>design</td>\n",
       "      <td>Most athletes first encountered him as a voice , bellowing in multi-lingual fury at officials who had broken rules or arrangements designed to make racing safer or more fair .</td>\n",
       "      <td>21</td>\n",
       "      <td>1</td>\n",
       "    </tr>\n",
       "  </tbody>\n",
       "</table>\n",
       "</div>"
      ],
      "text/plain": [
       "         text_idx sentence_idx       verb  \\\n",
       "0  a1h-fragment06          117    reflect   \n",
       "1  a1h-fragment06          118  encounter   \n",
       "2  a1h-fragment06          118     bellow   \n",
       "3  a1h-fragment06          118      break   \n",
       "4  a1h-fragment06          118     design   \n",
       "\n",
       "                                                                                                                                                                                                                               sentence  \\\n",
       "0  He was President of FISA ( Federation Internationale des Societes d'Aviron ) , the world governing body , for 30 years ; and most of this body 's attitudes and practices reflect the force of his strict , but genial personality .   \n",
       "1                                                       Most athletes first encountered him as a voice , bellowing in multi-lingual fury at officials who had broken rules or arrangements designed to make racing safer or more fair .   \n",
       "2                                                       Most athletes first encountered him as a voice , bellowing in multi-lingual fury at officials who had broken rules or arrangements designed to make racing safer or more fair .   \n",
       "3                                                       Most athletes first encountered him as a voice , bellowing in multi-lingual fury at officials who had broken rules or arrangements designed to make racing safer or more fair .   \n",
       "4                                                       Most athletes first encountered him as a voice , bellowing in multi-lingual fury at officials who had broken rules or arrangements designed to make racing safer or more fair .   \n",
       "\n",
       "   verb_idx  label  \n",
       "0        31      1  \n",
       "1         3      0  \n",
       "2         9      1  \n",
       "3        17      1  \n",
       "4        21      1  "
      ]
     },
     "execution_count": 23,
     "metadata": {},
     "output_type": "execute_result"
    }
   ],
   "source": [
    "data_container.vua_formatted.head()"
   ]
  },
  {
   "cell_type": "markdown",
   "id": "e415aa6f",
   "metadata": {},
   "source": [
    "## VUA Seq Dataset"
   ]
  },
  {
   "cell_type": "code",
   "execution_count": 24,
   "id": "0aabecee",
   "metadata": {},
   "outputs": [
    {
     "name": "stdout",
     "output_type": "stream",
     "text": [
      "VUA_seq train nrow: 6323\n",
      "VUA_seq test nrow: 2694\n",
      "VUA_seq val nrow: 1550\n"
     ]
    }
   ],
   "source": [
    "data_container.read_vua_seq_data(to_pandas=True)"
   ]
  },
  {
   "cell_type": "code",
   "execution_count": 26,
   "id": "d6b65d44",
   "metadata": {},
   "outputs": [
    {
     "data": {
      "text/html": [
       "<div>\n",
       "<style scoped>\n",
       "    .dataframe tbody tr th:only-of-type {\n",
       "        vertical-align: middle;\n",
       "    }\n",
       "\n",
       "    .dataframe tbody tr th {\n",
       "        vertical-align: top;\n",
       "    }\n",
       "\n",
       "    .dataframe thead th {\n",
       "        text-align: right;\n",
       "    }\n",
       "</style>\n",
       "<table border=\"1\" class=\"dataframe\">\n",
       "  <thead>\n",
       "    <tr style=\"text-align: right;\">\n",
       "      <th></th>\n",
       "      <th>txt_id</th>\n",
       "      <th>sen_ix</th>\n",
       "      <th>sentence</th>\n",
       "      <th>label_seq</th>\n",
       "      <th>pos_seq</th>\n",
       "      <th>labeled_sentence</th>\n",
       "      <th>genre</th>\n",
       "    </tr>\n",
       "  </thead>\n",
       "  <tbody>\n",
       "    <tr>\n",
       "      <th>0</th>\n",
       "      <td>acj-fragment01</td>\n",
       "      <td>148</td>\n",
       "      <td>Four alternative approaches have been described , and many others could be listed .</td>\n",
       "      <td>[0, 0, 1, 0, 0, 0, 0, 0, 0, 0, 0, 0, 0, 0]</td>\n",
       "      <td>['NUM', 'ADJ', 'NOUN', 'VERB', 'VERB', 'VERB', 'PUNCT', 'CCONJ', 'ADJ', 'NOUN', 'VERB', 'VERB', 'VERB', 'PUNCT']</td>\n",
       "      <td>Four alternative M_approaches have been described , and many others could be listed .</td>\n",
       "      <td>academic</td>\n",
       "    </tr>\n",
       "    <tr>\n",
       "      <th>1</th>\n",
       "      <td>ab9-fragment03</td>\n",
       "      <td>908</td>\n",
       "      <td>I wanted to say , you see , that I know you thought Frannie should n't have gone , and that it 's ruined your holiday plans , and , on behalf of us all , I 'm sorry .</td>\n",
       "      <td>[0, 0, 0, 0, 0, 0, 1, 0, 0, 0, 0, 0, 0, 0, 0, 0, 0, 0, 0, 0, 0, 0, 0, 0, 0, 0, 1, 0, 0, 0, 0, 0, 0, 0, 0, 0, 0, 0, 0, 0]</td>\n",
       "      <td>['PRON', 'VERB', 'PART', 'VERB', 'PUNCT', 'PRON', 'VERB', 'PUNCT', 'ADP', 'PRON', 'VERB', 'PRON', 'VERB', 'PROPN', 'VERB', 'ADV', 'VERB', 'VERB', 'PUNCT', 'CCONJ', 'ADP', 'PRON', 'VERB', 'VERB', 'ADJ', 'NOUN', 'NOUN', 'PUNCT', 'CCONJ', 'PUNCT', 'ADP', 'NOUN', 'ADP', 'PRON', 'DET', 'PUNCT', 'PRON', 'VERB', 'ADJ', 'PUNCT']</td>\n",
       "      <td>I wanted to say , you M_see , that I know you thought Frannie should n't have gone , and that it 's ruined your holiday M_plans , and , on behalf of us all , I 'm sorry .</td>\n",
       "      <td>fiction</td>\n",
       "    </tr>\n",
       "    <tr>\n",
       "      <th>2</th>\n",
       "      <td>kbw-fragment42</td>\n",
       "      <td>14929</td>\n",
       "      <td>The one with you chop the chop and then there will be squares</td>\n",
       "      <td>[0, 1, 1, 0, 0, 0, 0, 0, 0, 0, 0, 0, 0]</td>\n",
       "      <td>['DET', 'NOUN', 'ADP', 'PRON', 'VERB', 'DET', 'NOUN', 'CCONJ', 'ADV', 'ADV', 'VERB', 'VERB', 'NOUN']</td>\n",
       "      <td>The M_one M_with you chop the chop and then there will be squares</td>\n",
       "      <td>conversation</td>\n",
       "    </tr>\n",
       "    <tr>\n",
       "      <th>3</th>\n",
       "      <td>b1g-fragment02</td>\n",
       "      <td>772</td>\n",
       "      <td>Given that most GIS are rather dumb systems , requiring intelligent , very computer literate users , managing natural and technological hazards means that this knowledge base must be built into the system so that it can be utilized quickly by untrained users after a disaster has taken place or in an emergency .</td>\n",
       "      <td>[0, 0, 0, 0, 0, 0, 0, 0, 0, 0, 0, 0, 0, 0, 0, 0, 0, 0, 0, 0, 0, 0, 0, 0, 0, 0, 0, 0, 0, 0, 0, 0, 0, 0, 0, 0, 0, 0, 0, 0, 0, 0, 0, 0, 0, 0, 0, 0, 0, 0, 0, 0, 0, 0]</td>\n",
       "      <td>['VERB', 'ADP', 'ADJ', 'PROPN', 'VERB', 'ADV', 'ADJ', 'NOUN', 'PUNCT', 'VERB', 'ADJ', 'PUNCT', 'ADV', 'NOUN', 'NOUN', 'NOUN', 'PUNCT', 'VERB', 'ADJ', 'CCONJ', 'ADJ', 'NOUN', 'VERB', 'ADP', 'DET', 'NOUN', 'NOUN', 'VERB', 'VERB', 'VERB', 'ADP', 'DET', 'NOUN', 'ADP', 'ADP', 'PRON', 'VERB', 'VERB', 'VERB', 'ADV', 'ADP', 'ADJ', 'NOUN', 'ADP', 'DET', 'NOUN', 'VERB', 'VERB', 'NOUN', 'CCONJ', 'ADP', 'DET', 'NOUN', 'PUNCT']</td>\n",
       "      <td>Given that most GIS are rather dumb systems , requiring intelligent , very computer literate users , managing natural and technological hazards means that this knowledge base must be built into the system so that it can be utilized quickly by untrained users after a disaster has taken place or in an emergency .</td>\n",
       "      <td>academic</td>\n",
       "    </tr>\n",
       "    <tr>\n",
       "      <th>4</th>\n",
       "      <td>a1n-fragment18</td>\n",
       "      <td>350</td>\n",
       "      <td>Lacking a goal that might have altered its chemistry , it remained a matter of dull physics .</td>\n",
       "      <td>[0, 0, 0, 0, 0, 0, 0, 0, 1, 0, 0, 0, 0, 0, 0, 1, 1, 0]</td>\n",
       "      <td>['VERB', 'DET', 'NOUN', 'ADJ', 'VERB', 'VERB', 'VERB', 'ADJ', 'NOUN', 'PUNCT', 'PRON', 'VERB', 'DET', 'NOUN', 'ADP', 'ADJ', 'NOUN', 'PUNCT']</td>\n",
       "      <td>Lacking a goal that might have altered its M_chemistry , it remained a matter of M_dull M_physics .</td>\n",
       "      <td>news</td>\n",
       "    </tr>\n",
       "  </tbody>\n",
       "</table>\n",
       "</div>"
      ],
      "text/plain": [
       "           txt_id  sen_ix  \\\n",
       "0  acj-fragment01     148   \n",
       "1  ab9-fragment03     908   \n",
       "2  kbw-fragment42   14929   \n",
       "3  b1g-fragment02     772   \n",
       "4  a1n-fragment18     350   \n",
       "\n",
       "                                                                                                                                                                                                                                                                                                                   sentence  \\\n",
       "0                                                                                                                                                                                                                                       Four alternative approaches have been described , and many others could be listed .   \n",
       "1                                                                                                                                                    I wanted to say , you see , that I know you thought Frannie should n't have gone , and that it 's ruined your holiday plans , and , on behalf of us all , I 'm sorry .   \n",
       "2                                                                                                                                                                                                                                                             The one with you chop the chop and then there will be squares   \n",
       "3  Given that most GIS are rather dumb systems , requiring intelligent , very computer literate users , managing natural and technological hazards means that this knowledge base must be built into the system so that it can be utilized quickly by untrained users after a disaster has taken place or in an emergency .   \n",
       "4                                                                                                                                                                                                                             Lacking a goal that might have altered its chemistry , it remained a matter of dull physics .   \n",
       "\n",
       "                                                                                                                                                            label_seq  \\\n",
       "0                                                                                                                          [0, 0, 1, 0, 0, 0, 0, 0, 0, 0, 0, 0, 0, 0]   \n",
       "1                                            [0, 0, 0, 0, 0, 0, 1, 0, 0, 0, 0, 0, 0, 0, 0, 0, 0, 0, 0, 0, 0, 0, 0, 0, 0, 0, 1, 0, 0, 0, 0, 0, 0, 0, 0, 0, 0, 0, 0, 0]   \n",
       "2                                                                                                                             [0, 1, 1, 0, 0, 0, 0, 0, 0, 0, 0, 0, 0]   \n",
       "3  [0, 0, 0, 0, 0, 0, 0, 0, 0, 0, 0, 0, 0, 0, 0, 0, 0, 0, 0, 0, 0, 0, 0, 0, 0, 0, 0, 0, 0, 0, 0, 0, 0, 0, 0, 0, 0, 0, 0, 0, 0, 0, 0, 0, 0, 0, 0, 0, 0, 0, 0, 0, 0, 0]   \n",
       "4                                                                                                              [0, 0, 0, 0, 0, 0, 0, 0, 1, 0, 0, 0, 0, 0, 0, 1, 1, 0]   \n",
       "\n",
       "                                                                                                                                                                                                                                                                                                                                                                                                                              pos_seq  \\\n",
       "0                                                                                                                                                                                                                                                                                                                    ['NUM', 'ADJ', 'NOUN', 'VERB', 'VERB', 'VERB', 'PUNCT', 'CCONJ', 'ADJ', 'NOUN', 'VERB', 'VERB', 'VERB', 'PUNCT']   \n",
       "1                                                                                                  ['PRON', 'VERB', 'PART', 'VERB', 'PUNCT', 'PRON', 'VERB', 'PUNCT', 'ADP', 'PRON', 'VERB', 'PRON', 'VERB', 'PROPN', 'VERB', 'ADV', 'VERB', 'VERB', 'PUNCT', 'CCONJ', 'ADP', 'PRON', 'VERB', 'VERB', 'ADJ', 'NOUN', 'NOUN', 'PUNCT', 'CCONJ', 'PUNCT', 'ADP', 'NOUN', 'ADP', 'PRON', 'DET', 'PUNCT', 'PRON', 'VERB', 'ADJ', 'PUNCT']   \n",
       "2                                                                                                                                                                                                                                                                                                                                ['DET', 'NOUN', 'ADP', 'PRON', 'VERB', 'DET', 'NOUN', 'CCONJ', 'ADV', 'ADV', 'VERB', 'VERB', 'NOUN']   \n",
       "3  ['VERB', 'ADP', 'ADJ', 'PROPN', 'VERB', 'ADV', 'ADJ', 'NOUN', 'PUNCT', 'VERB', 'ADJ', 'PUNCT', 'ADV', 'NOUN', 'NOUN', 'NOUN', 'PUNCT', 'VERB', 'ADJ', 'CCONJ', 'ADJ', 'NOUN', 'VERB', 'ADP', 'DET', 'NOUN', 'NOUN', 'VERB', 'VERB', 'VERB', 'ADP', 'DET', 'NOUN', 'ADP', 'ADP', 'PRON', 'VERB', 'VERB', 'VERB', 'ADV', 'ADP', 'ADJ', 'NOUN', 'ADP', 'DET', 'NOUN', 'VERB', 'VERB', 'NOUN', 'CCONJ', 'ADP', 'DET', 'NOUN', 'PUNCT']   \n",
       "4                                                                                                                                                                                                                                                                                        ['VERB', 'DET', 'NOUN', 'ADJ', 'VERB', 'VERB', 'VERB', 'ADJ', 'NOUN', 'PUNCT', 'PRON', 'VERB', 'DET', 'NOUN', 'ADP', 'ADJ', 'NOUN', 'PUNCT']   \n",
       "\n",
       "                                                                                                                                                                                                                                                                                                           labeled_sentence  \\\n",
       "0                                                                                                                                                                                                                                     Four alternative M_approaches have been described , and many others could be listed .   \n",
       "1                                                                                                                                                I wanted to say , you M_see , that I know you thought Frannie should n't have gone , and that it 's ruined your holiday M_plans , and , on behalf of us all , I 'm sorry .   \n",
       "2                                                                                                                                                                                                                                                         The M_one M_with you chop the chop and then there will be squares   \n",
       "3  Given that most GIS are rather dumb systems , requiring intelligent , very computer literate users , managing natural and technological hazards means that this knowledge base must be built into the system so that it can be utilized quickly by untrained users after a disaster has taken place or in an emergency .   \n",
       "4                                                                                                                                                                                                                       Lacking a goal that might have altered its M_chemistry , it remained a matter of M_dull M_physics .   \n",
       "\n",
       "          genre  \n",
       "0      academic  \n",
       "1       fiction  \n",
       "2  conversation  \n",
       "3      academic  \n",
       "4          news  "
      ]
     },
     "execution_count": 26,
     "metadata": {},
     "output_type": "execute_result"
    }
   ],
   "source": [
    "data_container.vua_seq_formatted_val.head()"
   ]
  }
 ],
 "metadata": {
  "kernelspec": {
   "display_name": "Python 3 (ipykernel)",
   "language": "python",
   "name": "python3"
  },
  "language_info": {
   "codemirror_mode": {
    "name": "ipython",
    "version": 3
   },
   "file_extension": ".py",
   "mimetype": "text/x-python",
   "name": "python",
   "nbconvert_exporter": "python",
   "pygments_lexer": "ipython3",
   "version": "3.9.10"
  }
 },
 "nbformat": 4,
 "nbformat_minor": 5
}
