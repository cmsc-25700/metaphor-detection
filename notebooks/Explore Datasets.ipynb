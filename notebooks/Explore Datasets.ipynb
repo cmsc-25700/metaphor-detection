{
 "cells": [
  {
   "cell_type": "markdown",
   "id": "64aa78c1",
   "metadata": {},
   "source": [
    "Notebook for summarizing datasets from gao et al"
   ]
  },
  {
   "cell_type": "code",
   "execution_count": 1,
   "id": "1794f188",
   "metadata": {},
   "outputs": [],
   "source": [
    "import os\n",
    "import sys\n",
    "parent_dr = os.path.split(os.getcwd())[0]\n",
    "if parent_dr not in sys.path:\n",
    "    sys.path.append(parent_dr)"
   ]
  },
  {
   "cell_type": "code",
   "execution_count": 2,
   "id": "291ce46d",
   "metadata": {},
   "outputs": [],
   "source": [
    "from core.data.benchmark_files import *"
   ]
  },
  {
   "cell_type": "code",
   "execution_count": 3,
   "id": "23ebb422",
   "metadata": {},
   "outputs": [
    {
     "name": "stdout",
     "output_type": "stream",
     "text": [
      "Data directory: ../resources/metaphor-in-context/data\n"
     ]
    }
   ],
   "source": [
    "# gao et all data directory\n",
    "data_dir = os.path.join(\"..\",\"resources\", \"metaphor-in-context\", \"data\")\n",
    "print(f\"Data directory: {data_dir}\")"
   ]
  },
  {
   "cell_type": "code",
   "execution_count": 4,
   "id": "ab32780e",
   "metadata": {},
   "outputs": [],
   "source": [
    "data_container = GetExperimentData(data_dir)"
   ]
  },
  {
   "cell_type": "markdown",
   "id": "186ced65",
   "metadata": {},
   "source": [
    "## MOH Dataset"
   ]
  },
  {
   "cell_type": "code",
   "execution_count": 5,
   "id": "a98224e8",
   "metadata": {},
   "outputs": [
    {
     "name": "stdout",
     "output_type": "stream",
     "text": [
      "MOH formatted nrow: 1603\n",
      "MOH train nrow: 1283\n",
      "MOH test nrow: 160\n",
      "MOH val nrow: 160\n"
     ]
    }
   ],
   "source": [
    "data_container.read_moh_data(to_pandas=True)"
   ]
  },
  {
   "cell_type": "code",
   "execution_count": 6,
   "id": "50913246",
   "metadata": {},
   "outputs": [
    {
     "data": {
      "text/html": [
       "<div>\n",
       "<style scoped>\n",
       "    .dataframe tbody tr th:only-of-type {\n",
       "        vertical-align: middle;\n",
       "    }\n",
       "\n",
       "    .dataframe tbody tr th {\n",
       "        vertical-align: top;\n",
       "    }\n",
       "\n",
       "    .dataframe thead th {\n",
       "        text-align: right;\n",
       "    }\n",
       "</style>\n",
       "<table border=\"1\" class=\"dataframe\">\n",
       "  <thead>\n",
       "    <tr style=\"text-align: right;\">\n",
       "      <th></th>\n",
       "      <th>verb</th>\n",
       "      <th>sentence</th>\n",
       "      <th>verb_idx</th>\n",
       "      <th>label</th>\n",
       "    </tr>\n",
       "  </thead>\n",
       "  <tbody>\n",
       "    <tr>\n",
       "      <th>0</th>\n",
       "      <td>absorb</td>\n",
       "      <td>He absorbed the knowledge or beliefs of his tr...</td>\n",
       "      <td>1</td>\n",
       "      <td>1</td>\n",
       "    </tr>\n",
       "    <tr>\n",
       "      <th>1</th>\n",
       "      <td>absorb</td>\n",
       "      <td>He absorbed the costs for the accident .</td>\n",
       "      <td>1</td>\n",
       "      <td>1</td>\n",
       "    </tr>\n",
       "    <tr>\n",
       "      <th>2</th>\n",
       "      <td>absorb</td>\n",
       "      <td>The sales tax is absorbed into the state incom...</td>\n",
       "      <td>4</td>\n",
       "      <td>1</td>\n",
       "    </tr>\n",
       "    <tr>\n",
       "      <th>3</th>\n",
       "      <td>absorb</td>\n",
       "      <td>The immigrants were quickly absorbed into soci...</td>\n",
       "      <td>4</td>\n",
       "      <td>1</td>\n",
       "    </tr>\n",
       "    <tr>\n",
       "      <th>4</th>\n",
       "      <td>absorb</td>\n",
       "      <td>Her interest in butterflies absorbs her comple...</td>\n",
       "      <td>4</td>\n",
       "      <td>1</td>\n",
       "    </tr>\n",
       "  </tbody>\n",
       "</table>\n",
       "</div>"
      ],
      "text/plain": [
       "     verb                                           sentence  verb_idx  label\n",
       "0  absorb  He absorbed the knowledge or beliefs of his tr...         1      1\n",
       "1  absorb           He absorbed the costs for the accident .         1      1\n",
       "2  absorb  The sales tax is absorbed into the state incom...         4      1\n",
       "3  absorb  The immigrants were quickly absorbed into soci...         4      1\n",
       "4  absorb  Her interest in butterflies absorbs her comple...         4      1"
      ]
     },
     "execution_count": 6,
     "metadata": {},
     "output_type": "execute_result"
    }
   ],
   "source": [
    "data_container.moh_formatted.head()"
   ]
  },
  {
   "cell_type": "markdown",
   "id": "cd16ce7d",
   "metadata": {},
   "source": [
    "## MOH-X Dataset"
   ]
  },
  {
   "cell_type": "code",
   "execution_count": 7,
   "id": "7be21be1",
   "metadata": {},
   "outputs": [
    {
     "name": "stdout",
     "output_type": "stream",
     "text": [
      "MOH-X formatted svo nrow: 647\n",
      "MOH-X formatted svo cleaned nrow: 647\n"
     ]
    }
   ],
   "source": [
    "data_container.read_moh_x_data(to_pandas=True)"
   ]
  },
  {
   "cell_type": "code",
   "execution_count": 8,
   "id": "1745de17",
   "metadata": {},
   "outputs": [
    {
     "data": {
      "text/html": [
       "<div>\n",
       "<style scoped>\n",
       "    .dataframe tbody tr th:only-of-type {\n",
       "        vertical-align: middle;\n",
       "    }\n",
       "\n",
       "    .dataframe tbody tr th {\n",
       "        vertical-align: top;\n",
       "    }\n",
       "\n",
       "    .dataframe thead th {\n",
       "        text-align: right;\n",
       "    }\n",
       "</style>\n",
       "<table border=\"1\" class=\"dataframe\">\n",
       "  <thead>\n",
       "    <tr style=\"text-align: right;\">\n",
       "      <th></th>\n",
       "      <th>arg1</th>\n",
       "      <th>arg2</th>\n",
       "      <th>verb</th>\n",
       "      <th>sentence</th>\n",
       "      <th>verb_idx</th>\n",
       "      <th>label</th>\n",
       "    </tr>\n",
       "  </thead>\n",
       "  <tbody>\n",
       "    <tr>\n",
       "      <th>0</th>\n",
       "      <td>knowledge</td>\n",
       "      <td>NaN</td>\n",
       "      <td>absorb</td>\n",
       "      <td>He absorbed the knowledge or beliefs of his t...</td>\n",
       "      <td>1</td>\n",
       "      <td>1</td>\n",
       "    </tr>\n",
       "    <tr>\n",
       "      <th>1</th>\n",
       "      <td>cost</td>\n",
       "      <td>NaN</td>\n",
       "      <td>absorb</td>\n",
       "      <td>He absorbed the costs for the accident .</td>\n",
       "      <td>1</td>\n",
       "      <td>1</td>\n",
       "    </tr>\n",
       "    <tr>\n",
       "      <th>2</th>\n",
       "      <td>tax</td>\n",
       "      <td>NaN</td>\n",
       "      <td>absorb</td>\n",
       "      <td>The sales tax is absorbed into the state inco...</td>\n",
       "      <td>4</td>\n",
       "      <td>1</td>\n",
       "    </tr>\n",
       "    <tr>\n",
       "      <th>3</th>\n",
       "      <td>immigrant</td>\n",
       "      <td>NaN</td>\n",
       "      <td>absorb</td>\n",
       "      <td>The immigrants were quickly absorbed into soc...</td>\n",
       "      <td>4</td>\n",
       "      <td>1</td>\n",
       "    </tr>\n",
       "    <tr>\n",
       "      <th>4</th>\n",
       "      <td>interest</td>\n",
       "      <td>NaN</td>\n",
       "      <td>absorb</td>\n",
       "      <td>Her interest in butterflies absorbs her compl...</td>\n",
       "      <td>4</td>\n",
       "      <td>1</td>\n",
       "    </tr>\n",
       "  </tbody>\n",
       "</table>\n",
       "</div>"
      ],
      "text/plain": [
       "        arg1  arg2    verb                                           sentence  \\\n",
       "0  knowledge   NaN  absorb   He absorbed the knowledge or beliefs of his t...   \n",
       "1       cost   NaN  absorb           He absorbed the costs for the accident .   \n",
       "2        tax   NaN  absorb   The sales tax is absorbed into the state inco...   \n",
       "3  immigrant   NaN  absorb   The immigrants were quickly absorbed into soc...   \n",
       "4   interest   NaN  absorb   Her interest in butterflies absorbs her compl...   \n",
       "\n",
       "   verb_idx  label  \n",
       "0         1      1  \n",
       "1         1      1  \n",
       "2         4      1  \n",
       "3         4      1  \n",
       "4         4      1  "
      ]
     },
     "execution_count": 8,
     "metadata": {},
     "output_type": "execute_result"
    }
   ],
   "source": [
    "data_container.moh_x_formatted_svo_cleaned.head()"
   ]
  },
  {
   "cell_type": "markdown",
   "id": "23073026",
   "metadata": {},
   "source": [
    "## TroFi Dataset"
   ]
  },
  {
   "cell_type": "code",
   "execution_count": 9,
   "id": "f504981e",
   "metadata": {},
   "outputs": [
    {
     "name": "stdout",
     "output_type": "stream",
     "text": [
      "TroFi formatted_all3737 nrow: 3737\n"
     ]
    }
   ],
   "source": [
    "data_container.read_trofi_data(to_pandas=True)"
   ]
  },
  {
   "cell_type": "code",
   "execution_count": 10,
   "id": "83e842cb",
   "metadata": {},
   "outputs": [
    {
     "data": {
      "text/html": [
       "<div>\n",
       "<style scoped>\n",
       "    .dataframe tbody tr th:only-of-type {\n",
       "        vertical-align: middle;\n",
       "    }\n",
       "\n",
       "    .dataframe tbody tr th {\n",
       "        vertical-align: top;\n",
       "    }\n",
       "\n",
       "    .dataframe thead th {\n",
       "        text-align: right;\n",
       "    }\n",
       "</style>\n",
       "<table border=\"1\" class=\"dataframe\">\n",
       "  <thead>\n",
       "    <tr style=\"text-align: right;\">\n",
       "      <th></th>\n",
       "      <th>verb</th>\n",
       "      <th>sentence</th>\n",
       "      <th>verb_idx</th>\n",
       "      <th>label</th>\n",
       "    </tr>\n",
       "  </thead>\n",
       "  <tbody>\n",
       "    <tr>\n",
       "      <th>0</th>\n",
       "      <td>absorb</td>\n",
       "      <td>An Energy Department spokesman says the sulfur...</td>\n",
       "      <td>22</td>\n",
       "      <td>0</td>\n",
       "    </tr>\n",
       "    <tr>\n",
       "      <th>1</th>\n",
       "      <td>absorb</td>\n",
       "      <td>The yellow beta carotene pigment absorbs blue ...</td>\n",
       "      <td>5</td>\n",
       "      <td>0</td>\n",
       "    </tr>\n",
       "    <tr>\n",
       "      <th>2</th>\n",
       "      <td>absorb</td>\n",
       "      <td>This time , the ground absorbed the shock wave...</td>\n",
       "      <td>5</td>\n",
       "      <td>0</td>\n",
       "    </tr>\n",
       "    <tr>\n",
       "      <th>3</th>\n",
       "      <td>absorb</td>\n",
       "      <td>'' Vitamins could be passed right out of the b...</td>\n",
       "      <td>12</td>\n",
       "      <td>0</td>\n",
       "    </tr>\n",
       "    <tr>\n",
       "      <th>4</th>\n",
       "      <td>absorb</td>\n",
       "      <td>As Eliot wrote : '' In a warm haze , the sultr...</td>\n",
       "      <td>14</td>\n",
       "      <td>0</td>\n",
       "    </tr>\n",
       "  </tbody>\n",
       "</table>\n",
       "</div>"
      ],
      "text/plain": [
       "     verb                                           sentence  verb_idx  label\n",
       "0  absorb  An Energy Department spokesman says the sulfur...        22      0\n",
       "1  absorb  The yellow beta carotene pigment absorbs blue ...         5      0\n",
       "2  absorb  This time , the ground absorbed the shock wave...         5      0\n",
       "3  absorb  '' Vitamins could be passed right out of the b...        12      0\n",
       "4  absorb  As Eliot wrote : '' In a warm haze , the sultr...        14      0"
      ]
     },
     "execution_count": 10,
     "metadata": {},
     "output_type": "execute_result"
    }
   ],
   "source": [
    "data_container.trofi_formatted_all.head()"
   ]
  },
  {
   "cell_type": "markdown",
   "id": "cc098bc0",
   "metadata": {},
   "source": [
    "## TroFi-X Dataset"
   ]
  },
  {
   "cell_type": "code",
   "execution_count": 11,
   "id": "fff5fe7b",
   "metadata": {},
   "outputs": [
    {
     "name": "stdout",
     "output_type": "stream",
     "text": [
      "TroFi-X formatted svo nrow: 1444\n"
     ]
    }
   ],
   "source": [
    "data_container.read_trofi_x_data(to_pandas=True)"
   ]
  },
  {
   "cell_type": "code",
   "execution_count": 12,
   "id": "1a79ba13",
   "metadata": {},
   "outputs": [
    {
     "data": {
      "text/html": [
       "<div>\n",
       "<style scoped>\n",
       "    .dataframe tbody tr th:only-of-type {\n",
       "        vertical-align: middle;\n",
       "    }\n",
       "\n",
       "    .dataframe tbody tr th {\n",
       "        vertical-align: top;\n",
       "    }\n",
       "\n",
       "    .dataframe thead th {\n",
       "        text-align: right;\n",
       "    }\n",
       "</style>\n",
       "<table border=\"1\" class=\"dataframe\">\n",
       "  <thead>\n",
       "    <tr style=\"text-align: right;\">\n",
       "      <th></th>\n",
       "      <th>arg1</th>\n",
       "      <th>arg2</th>\n",
       "      <th>verb</th>\n",
       "      <th>sentence</th>\n",
       "      <th>verb_stem</th>\n",
       "      <th>label</th>\n",
       "    </tr>\n",
       "  </thead>\n",
       "  <tbody>\n",
       "    <tr>\n",
       "      <th>0</th>\n",
       "      <td>mileage</td>\n",
       "      <td>struck</td>\n",
       "      <td>blow</td>\n",
       "      <td>Triple mileage has struck another blow to the ...</td>\n",
       "      <td>strike</td>\n",
       "      <td>1</td>\n",
       "    </tr>\n",
       "    <tr>\n",
       "      <th>1</th>\n",
       "      <td>terrorist</td>\n",
       "      <td>attack</td>\n",
       "      <td>target</td>\n",
       "      <td>U.S. officials said evidence suggests that a J...</td>\n",
       "      <td>attack</td>\n",
       "      <td>0</td>\n",
       "    </tr>\n",
       "    <tr>\n",
       "      <th>2</th>\n",
       "      <td>forces</td>\n",
       "      <td>stepped</td>\n",
       "      <td>use</td>\n",
       "      <td>Some police forces , for example , have steppe...</td>\n",
       "      <td>step</td>\n",
       "      <td>0</td>\n",
       "    </tr>\n",
       "    <tr>\n",
       "      <th>3</th>\n",
       "      <td>day</td>\n",
       "      <td>pour</td>\n",
       "      <td>stream</td>\n",
       "      <td>Every day his troops gather under the green , ...</td>\n",
       "      <td>pour</td>\n",
       "      <td>0</td>\n",
       "    </tr>\n",
       "    <tr>\n",
       "      <th>4</th>\n",
       "      <td>manufacturers</td>\n",
       "      <td>rolling</td>\n",
       "      <td>products</td>\n",
       "      <td>He says manufacturers are increasingly rolling...</td>\n",
       "      <td>roll</td>\n",
       "      <td>1</td>\n",
       "    </tr>\n",
       "  </tbody>\n",
       "</table>\n",
       "</div>"
      ],
      "text/plain": [
       "            arg1     arg2      verb  \\\n",
       "0        mileage   struck      blow   \n",
       "1      terrorist   attack    target   \n",
       "2         forces  stepped       use   \n",
       "3            day     pour    stream   \n",
       "4  manufacturers  rolling  products   \n",
       "\n",
       "                                            sentence verb_stem  label  \n",
       "0  Triple mileage has struck another blow to the ...    strike      1  \n",
       "1  U.S. officials said evidence suggests that a J...    attack      0  \n",
       "2  Some police forces , for example , have steppe...      step      0  \n",
       "3  Every day his troops gather under the green , ...      pour      0  \n",
       "4  He says manufacturers are increasingly rolling...      roll      1  "
      ]
     },
     "execution_count": 12,
     "metadata": {},
     "output_type": "execute_result"
    }
   ],
   "source": [
    "data_container.trofi_x_formatted_svo.head()"
   ]
  },
  {
   "cell_type": "markdown",
   "id": "febc49d6",
   "metadata": {},
   "source": [
    "## VUA Dataset"
   ]
  },
  {
   "cell_type": "code",
   "execution_count": 13,
   "id": "e8a4c6c6",
   "metadata": {},
   "outputs": [
    {
     "name": "stdout",
     "output_type": "stream",
     "text": [
      "VUA formatted nrow: 23113\n",
      "VUA train nrow: 15516\n",
      "VUA train augmented nrow: 116622\n",
      "VUA train no val nrow: 12541\n",
      "VUA test nrow: 5873\n",
      "VUA val nrow: 1724\n"
     ]
    }
   ],
   "source": [
    "data_container.read_vua_data(to_pandas=True)"
   ]
  },
  {
   "cell_type": "code",
   "execution_count": 14,
   "id": "2e934c7a",
   "metadata": {},
   "outputs": [
    {
     "data": {
      "text/html": [
       "<div>\n",
       "<style scoped>\n",
       "    .dataframe tbody tr th:only-of-type {\n",
       "        vertical-align: middle;\n",
       "    }\n",
       "\n",
       "    .dataframe tbody tr th {\n",
       "        vertical-align: top;\n",
       "    }\n",
       "\n",
       "    .dataframe thead th {\n",
       "        text-align: right;\n",
       "    }\n",
       "</style>\n",
       "<table border=\"1\" class=\"dataframe\">\n",
       "  <thead>\n",
       "    <tr style=\"text-align: right;\">\n",
       "      <th></th>\n",
       "      <th>text_idx</th>\n",
       "      <th>sentence_idx</th>\n",
       "      <th>verb</th>\n",
       "      <th>sentence</th>\n",
       "      <th>verb_idx</th>\n",
       "      <th>label</th>\n",
       "    </tr>\n",
       "  </thead>\n",
       "  <tbody>\n",
       "    <tr>\n",
       "      <th>0</th>\n",
       "      <td>a1h-fragment06</td>\n",
       "      <td>117</td>\n",
       "      <td>reflect</td>\n",
       "      <td>He was President of FISA ( Federation Internat...</td>\n",
       "      <td>31</td>\n",
       "      <td>1</td>\n",
       "    </tr>\n",
       "    <tr>\n",
       "      <th>1</th>\n",
       "      <td>a1h-fragment06</td>\n",
       "      <td>118</td>\n",
       "      <td>encounter</td>\n",
       "      <td>Most athletes first encountered him as a voice...</td>\n",
       "      <td>3</td>\n",
       "      <td>0</td>\n",
       "    </tr>\n",
       "    <tr>\n",
       "      <th>2</th>\n",
       "      <td>a1h-fragment06</td>\n",
       "      <td>118</td>\n",
       "      <td>bellow</td>\n",
       "      <td>Most athletes first encountered him as a voice...</td>\n",
       "      <td>9</td>\n",
       "      <td>1</td>\n",
       "    </tr>\n",
       "    <tr>\n",
       "      <th>3</th>\n",
       "      <td>a1h-fragment06</td>\n",
       "      <td>118</td>\n",
       "      <td>break</td>\n",
       "      <td>Most athletes first encountered him as a voice...</td>\n",
       "      <td>17</td>\n",
       "      <td>1</td>\n",
       "    </tr>\n",
       "    <tr>\n",
       "      <th>4</th>\n",
       "      <td>a1h-fragment06</td>\n",
       "      <td>118</td>\n",
       "      <td>design</td>\n",
       "      <td>Most athletes first encountered him as a voice...</td>\n",
       "      <td>21</td>\n",
       "      <td>1</td>\n",
       "    </tr>\n",
       "  </tbody>\n",
       "</table>\n",
       "</div>"
      ],
      "text/plain": [
       "         text_idx sentence_idx       verb  \\\n",
       "0  a1h-fragment06          117    reflect   \n",
       "1  a1h-fragment06          118  encounter   \n",
       "2  a1h-fragment06          118     bellow   \n",
       "3  a1h-fragment06          118      break   \n",
       "4  a1h-fragment06          118     design   \n",
       "\n",
       "                                            sentence  verb_idx  label  \n",
       "0  He was President of FISA ( Federation Internat...        31      1  \n",
       "1  Most athletes first encountered him as a voice...         3      0  \n",
       "2  Most athletes first encountered him as a voice...         9      1  \n",
       "3  Most athletes first encountered him as a voice...        17      1  \n",
       "4  Most athletes first encountered him as a voice...        21      1  "
      ]
     },
     "execution_count": 14,
     "metadata": {},
     "output_type": "execute_result"
    }
   ],
   "source": [
    "data_container.vua_formatted.head()"
   ]
  },
  {
   "cell_type": "markdown",
   "id": "6b50784c",
   "metadata": {},
   "source": [
    "## VUA Seq Dataset"
   ]
  },
  {
   "cell_type": "code",
   "execution_count": 15,
   "id": "e8cc9bf6",
   "metadata": {},
   "outputs": [
    {
     "name": "stdout",
     "output_type": "stream",
     "text": [
      "VUA_seq train nrow: 6323\n",
      "VUA_seq test nrow: 2694\n",
      "VUA_seq val nrow: 1550\n"
     ]
    }
   ],
   "source": [
    "data_container.read_vua_seq_data(to_pandas=True)"
   ]
  },
  {
   "cell_type": "code",
   "execution_count": 16,
   "id": "8a8fd355",
   "metadata": {},
   "outputs": [
    {
     "data": {
      "text/html": [
       "<div>\n",
       "<style scoped>\n",
       "    .dataframe tbody tr th:only-of-type {\n",
       "        vertical-align: middle;\n",
       "    }\n",
       "\n",
       "    .dataframe tbody tr th {\n",
       "        vertical-align: top;\n",
       "    }\n",
       "\n",
       "    .dataframe thead th {\n",
       "        text-align: right;\n",
       "    }\n",
       "</style>\n",
       "<table border=\"1\" class=\"dataframe\">\n",
       "  <thead>\n",
       "    <tr style=\"text-align: right;\">\n",
       "      <th></th>\n",
       "      <th>txt_id</th>\n",
       "      <th>sen_ix</th>\n",
       "      <th>sentence</th>\n",
       "      <th>label_seq</th>\n",
       "      <th>pos_seq</th>\n",
       "      <th>labeled_sentence</th>\n",
       "      <th>genre</th>\n",
       "    </tr>\n",
       "  </thead>\n",
       "  <tbody>\n",
       "    <tr>\n",
       "      <th>0</th>\n",
       "      <td>a1k-fragment02</td>\n",
       "      <td>41</td>\n",
       "      <td>Ca n't fail to be entertaining .</td>\n",
       "      <td>[0, 0, 0, 0, 0, 0, 0]</td>\n",
       "      <td>['VERB', 'ADV', 'VERB', 'PART', 'VERB', 'ADJ',...</td>\n",
       "      <td>Ca n't fail to be entertaining .</td>\n",
       "      <td>news</td>\n",
       "    </tr>\n",
       "    <tr>\n",
       "      <th>1</th>\n",
       "      <td>cdb-fragment04</td>\n",
       "      <td>907</td>\n",
       "      <td>How much was he going to tell her ?</td>\n",
       "      <td>[0, 0, 0, 0, 0, 0, 0, 0, 0]</td>\n",
       "      <td>['ADV', 'ADJ', 'VERB', 'PRON', 'VERB', 'PART',...</td>\n",
       "      <td>How much was he going to tell her ?</td>\n",
       "      <td>fiction</td>\n",
       "    </tr>\n",
       "    <tr>\n",
       "      <th>2</th>\n",
       "      <td>ac2-fragment06</td>\n",
       "      <td>1520</td>\n",
       "      <td>Up until that news hit the Committee , Don had...</td>\n",
       "      <td>[0, 0, 1, 0, 1, 0, 0, 0, 0, 0, 0, 0, 0, 1, 0, ...</td>\n",
       "      <td>['ADP', 'ADP', 'DET', 'NOUN', 'VERB', 'DET', '...</td>\n",
       "      <td>Up until M_that news M_hit the Committee , Don...</td>\n",
       "      <td>fiction</td>\n",
       "    </tr>\n",
       "    <tr>\n",
       "      <th>3</th>\n",
       "      <td>kbc-fragment13</td>\n",
       "      <td>5871</td>\n",
       "      <td>Could go on to the rugby and go with them coul...</td>\n",
       "      <td>[0, 0, 0, 0, 0, 0, 0, 0, 0, 0, 0, 0, 0, 0]</td>\n",
       "      <td>['VERB', 'VERB', 'PART', 'ADP', 'DET', 'NOUN',...</td>\n",
       "      <td>Could go on to the rugby and go with them coul...</td>\n",
       "      <td>conversation</td>\n",
       "    </tr>\n",
       "    <tr>\n",
       "      <th>4</th>\n",
       "      <td>ahb-fragment51</td>\n",
       "      <td>734</td>\n",
       "      <td>Finally , we went to the office and they gave ...</td>\n",
       "      <td>[0, 0, 0, 0, 0, 0, 0, 0, 1, 1, 0, 0, 0, 0, 0, ...</td>\n",
       "      <td>['ADV', 'PUNCT', 'PRON', 'VERB', 'ADP', 'DET',...</td>\n",
       "      <td>Finally , we went to the office and M_they M_g...</td>\n",
       "      <td>news</td>\n",
       "    </tr>\n",
       "  </tbody>\n",
       "</table>\n",
       "</div>"
      ],
      "text/plain": [
       "           txt_id sen_ix                                           sentence  \\\n",
       "0  a1k-fragment02     41                   Ca n't fail to be entertaining .   \n",
       "1  cdb-fragment04    907                How much was he going to tell her ?   \n",
       "2  ac2-fragment06   1520  Up until that news hit the Committee , Don had...   \n",
       "3  kbc-fragment13   5871  Could go on to the rugby and go with them coul...   \n",
       "4  ahb-fragment51    734  Finally , we went to the office and they gave ...   \n",
       "\n",
       "                                           label_seq  \\\n",
       "0                              [0, 0, 0, 0, 0, 0, 0]   \n",
       "1                        [0, 0, 0, 0, 0, 0, 0, 0, 0]   \n",
       "2  [0, 0, 1, 0, 1, 0, 0, 0, 0, 0, 0, 0, 0, 1, 0, ...   \n",
       "3         [0, 0, 0, 0, 0, 0, 0, 0, 0, 0, 0, 0, 0, 0]   \n",
       "4  [0, 0, 0, 0, 0, 0, 0, 0, 1, 1, 0, 0, 0, 0, 0, ...   \n",
       "\n",
       "                                             pos_seq  \\\n",
       "0  ['VERB', 'ADV', 'VERB', 'PART', 'VERB', 'ADJ',...   \n",
       "1  ['ADV', 'ADJ', 'VERB', 'PRON', 'VERB', 'PART',...   \n",
       "2  ['ADP', 'ADP', 'DET', 'NOUN', 'VERB', 'DET', '...   \n",
       "3  ['VERB', 'VERB', 'PART', 'ADP', 'DET', 'NOUN',...   \n",
       "4  ['ADV', 'PUNCT', 'PRON', 'VERB', 'ADP', 'DET',...   \n",
       "\n",
       "                                    labeled_sentence         genre  \n",
       "0                   Ca n't fail to be entertaining .          news  \n",
       "1                How much was he going to tell her ?       fiction  \n",
       "2  Up until M_that news M_hit the Committee , Don...       fiction  \n",
       "3  Could go on to the rugby and go with them coul...  conversation  \n",
       "4  Finally , we went to the office and M_they M_g...          news  "
      ]
     },
     "execution_count": 16,
     "metadata": {},
     "output_type": "execute_result"
    }
   ],
   "source": [
    "data_container.vua_seq_formatted_train.head()"
   ]
  }
 ],
 "metadata": {
  "kernelspec": {
   "display_name": "Python 3 (ipykernel)",
   "language": "python",
   "name": "python3"
  },
  "language_info": {
   "codemirror_mode": {
    "name": "ipython",
    "version": 3
   },
   "file_extension": ".py",
   "mimetype": "text/x-python",
   "name": "python",
   "nbconvert_exporter": "python",
   "pygments_lexer": "ipython3",
   "version": "3.9.10"
  }
 },
 "nbformat": 4,
 "nbformat_minor": 5
}
