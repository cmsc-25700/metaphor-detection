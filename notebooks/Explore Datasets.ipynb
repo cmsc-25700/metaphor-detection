{
 "cells": [
  {
   "cell_type": "markdown",
   "id": "68b01495",
   "metadata": {},
   "source": [
    "Notebook for summarizing datasets from gao et al"
   ]
  },
  {
   "cell_type": "code",
   "execution_count": 1,
   "id": "4aa3d6fc",
   "metadata": {},
   "outputs": [],
   "source": [
    "import os\n",
    "import sys\n",
    "parent_dr = os.path.split(os.getcwd())[0]\n",
    "if parent_dr not in sys.path:\n",
    "    sys.path.append(parent_dr)"
   ]
  },
  {
   "cell_type": "code",
   "execution_count": 2,
   "id": "b64ffafb",
   "metadata": {},
   "outputs": [],
   "source": [
    "from core.data.benchmark_files import *"
   ]
  },
  {
   "cell_type": "code",
   "execution_count": 3,
   "id": "c0d61aba",
   "metadata": {},
   "outputs": [
    {
     "name": "stdout",
     "output_type": "stream",
     "text": [
      "Data directory: ../resources/metaphor-in-context/data\n"
     ]
    }
   ],
   "source": [
    "# gao et all data directory\n",
    "data_dir = os.path.join(\"..\",\"resources\", \"metaphor-in-context\", \"data\")\n",
    "print(f\"Data directory: {data_dir}\")"
   ]
  },
  {
   "cell_type": "code",
   "execution_count": 4,
   "id": "e08027ef",
   "metadata": {},
   "outputs": [],
   "source": [
    "data_container = GetExperimentData(data_dir)"
   ]
  },
  {
   "cell_type": "markdown",
   "id": "af2dfbc5",
   "metadata": {},
   "source": [
    "## MOH Dataset"
   ]
  },
  {
   "cell_type": "code",
   "execution_count": 5,
   "id": "1e3c4981",
   "metadata": {},
   "outputs": [
    {
     "name": "stdout",
     "output_type": "stream",
     "text": [
      "MOH formatted nrow: 1603\n",
      "MOH test nrow: 160\n",
      "MOH train nrow: 1283\n",
      "MOH val nrow: 160\n"
     ]
    }
   ],
   "source": [
    "data_container.read_moh_data(to_pandas=True)"
   ]
  },
  {
   "cell_type": "code",
   "execution_count": null,
   "id": "6874c96a",
   "metadata": {},
   "outputs": [],
   "source": [
    "data_container."
   ]
  }
 ],
 "metadata": {
  "kernelspec": {
   "display_name": "Python 3 (ipykernel)",
   "language": "python",
   "name": "python3"
  },
  "language_info": {
   "codemirror_mode": {
    "name": "ipython",
    "version": 3
   },
   "file_extension": ".py",
   "mimetype": "text/x-python",
   "name": "python",
   "nbconvert_exporter": "python",
   "pygments_lexer": "ipython3",
   "version": "3.9.10"
  }
 },
 "nbformat": 4,
 "nbformat_minor": 5
}
