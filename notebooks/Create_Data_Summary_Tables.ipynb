{
 "cells": [
  {
   "cell_type": "markdown",
   "id": "351af9ba",
   "metadata": {},
   "source": [
    "# Recreate data summary tables from gao et al paper"
   ]
  },
  {
   "cell_type": "code",
   "execution_count": 1,
   "id": "52b55418",
   "metadata": {},
   "outputs": [],
   "source": [
    "import os\n",
    "import sys\n",
    "parent_dr = os.path.split(os.getcwd())[0]\n",
    "if parent_dr not in sys.path:\n",
    "    sys.path.append(parent_dr)"
   ]
  },
  {
   "cell_type": "code",
   "execution_count": 26,
   "id": "10a87487",
   "metadata": {},
   "outputs": [],
   "source": [
    "import tabulate\n",
    "from core.data.gao_data import *\n",
    "from core.data.gao_util import *"
   ]
  },
  {
   "cell_type": "code",
   "execution_count": 3,
   "id": "378d79c3",
   "metadata": {},
   "outputs": [
    {
     "name": "stdout",
     "output_type": "stream",
     "text": [
      "Data directory: ../resources/metaphor-in-context/data\n"
     ]
    }
   ],
   "source": [
    "# gao et all data directory\n",
    "data_dir = os.path.join(\"..\",\"resources\", \"metaphor-in-context\", \"data\")\n",
    "print(f\"Data directory: {data_dir}\")"
   ]
  },
  {
   "cell_type": "code",
   "execution_count": 4,
   "id": "1a4865a9",
   "metadata": {},
   "outputs": [],
   "source": [
    "data_container = ExperimentData(data_dir)"
   ]
  },
  {
   "cell_type": "code",
   "execution_count": 9,
   "id": "17fa901a",
   "metadata": {},
   "outputs": [
    {
     "name": "stdout",
     "output_type": "stream",
     "text": [
      "MOH formatted nrow: 1603\n",
      "MOH train nrow: 1283\n",
      "MOH test nrow: 160\n",
      "MOH val nrow: 160\n",
      "MOH-X formatted svo nrow: 647\n",
      "MOH-X formatted svo cleaned nrow: 647\n",
      "TroFi formatted_all3737 nrow: 3737\n",
      "TroFi-X formatted svo nrow: 1444\n",
      "VUA formatted nrow: 23113\n",
      "VUA train nrow: 15516\n",
      "VUA train augmented nrow: 116622\n",
      "VUA train no val nrow: 12541\n",
      "VUA test nrow: 5873\n",
      "VUA val nrow: 1724\n",
      "VUA_seq train nrow: 6323\n",
      "VUA_seq test nrow: 2694\n",
      "VUA_seq val nrow: 1550\n"
     ]
    }
   ],
   "source": [
    "data_container.read_all_data(to_pandas=True)"
   ]
  },
  {
   "cell_type": "markdown",
   "id": "ed5e12a4",
   "metadata": {},
   "source": [
    "## CLASSIFICATION\n",
    "### Datasets to summarize"
   ]
  },
  {
   "cell_type": "code",
   "execution_count": 20,
   "id": "033649c9",
   "metadata": {},
   "outputs": [],
   "source": [
    "def get_sentence_length(x):\n",
    "    return len(x.split())"
   ]
  },
  {
   "cell_type": "code",
   "execution_count": 31,
   "id": "913c2f61",
   "metadata": {},
   "outputs": [],
   "source": [
    "classification_data = {\n",
    "    MOH_X: data_container.moh_x_formatted_svo_cleaned,\n",
    "    MOH: data_container.moh_formatted,\n",
    "    TROFI_X: data_container.trofi_x_formatted_svo,\n",
    "    TROFI: data_container.trofi_formatted_all,\n",
    "    VUA: data_container.vua_formatted}"
   ]
  },
  {
   "cell_type": "code",
   "execution_count": 32,
   "id": "509b0bba",
   "metadata": {},
   "outputs": [
    {
     "data": {
      "text/html": [
       "<div>\n",
       "<style scoped>\n",
       "    .dataframe tbody tr th:only-of-type {\n",
       "        vertical-align: middle;\n",
       "    }\n",
       "\n",
       "    .dataframe tbody tr th {\n",
       "        vertical-align: top;\n",
       "    }\n",
       "\n",
       "    .dataframe thead th {\n",
       "        text-align: right;\n",
       "    }\n",
       "</style>\n",
       "<table border=\"1\" class=\"dataframe\">\n",
       "  <thead>\n",
       "    <tr style=\"text-align: right;\">\n",
       "      <th></th>\n",
       "      <th></th>\n",
       "      <th>n</th>\n",
       "      <th>Perc Metaphor</th>\n",
       "      <th>Uniq Verb</th>\n",
       "      <th>Avg Sentence Len</th>\n",
       "    </tr>\n",
       "  </thead>\n",
       "  <tbody>\n",
       "    <tr>\n",
       "      <th>0</th>\n",
       "      <td>MOH-X</td>\n",
       "      <td>647</td>\n",
       "      <td>0.486862</td>\n",
       "      <td>214</td>\n",
       "      <td>8.000000</td>\n",
       "    </tr>\n",
       "    <tr>\n",
       "      <th>1</th>\n",
       "      <td>MOH</td>\n",
       "      <td>1603</td>\n",
       "      <td>0.248908</td>\n",
       "      <td>436</td>\n",
       "      <td>7.426076</td>\n",
       "    </tr>\n",
       "    <tr>\n",
       "      <th>2</th>\n",
       "      <td>TroFi-X</td>\n",
       "      <td>1444</td>\n",
       "      <td>0.416205</td>\n",
       "      <td>857</td>\n",
       "      <td>29.346953</td>\n",
       "    </tr>\n",
       "    <tr>\n",
       "      <th>3</th>\n",
       "      <td>TroFi</td>\n",
       "      <td>3737</td>\n",
       "      <td>0.435376</td>\n",
       "      <td>50</td>\n",
       "      <td>28.351351</td>\n",
       "    </tr>\n",
       "    <tr>\n",
       "      <th>4</th>\n",
       "      <td>VUA</td>\n",
       "      <td>23113</td>\n",
       "      <td>0.283563</td>\n",
       "      <td>2298</td>\n",
       "      <td>26.113226</td>\n",
       "    </tr>\n",
       "  </tbody>\n",
       "</table>\n",
       "</div>"
      ],
      "text/plain": [
       "                n  Perc Metaphor  Uniq Verb  Avg Sentence Len\n",
       "0    MOH-X    647       0.486862        214          8.000000\n",
       "1      MOH   1603       0.248908        436          7.426076\n",
       "2  TroFi-X   1444       0.416205        857         29.346953\n",
       "3    TroFi   3737       0.435376         50         28.351351\n",
       "4      VUA  23113       0.283563       2298         26.113226"
      ]
     },
     "execution_count": 32,
     "metadata": {},
     "output_type": "execute_result"
    }
   ],
   "source": [
    "# Per the gao-g code, can just split the sentence\n",
    "summary= [[\"\", \"n\", \"Perc Metaphor\", \"Uniq Verb\", \"Avg Sentence Len\"]]\n",
    "for data_name, dataset in classification_data.items():\n",
    "    num_obs = len(dataset)\n",
    "    perc_metaphor = dataset['label'].mean()\n",
    "    n_uniq_verb = dataset['verb'].nunique()\n",
    "    avg_sen_len = dataset['sentence'].apply(get_sentence_length).mean()\n",
    "    summary.append([data_name, num_obs , perc_metaphor, n_uniq_verb, avg_sen_len])\n",
    "\n",
    "pd.DataFrame(summary[1:], columns = summary[0])"
   ]
  },
  {
   "cell_type": "code",
   "execution_count": 33,
   "id": "bdd890bf",
   "metadata": {},
   "outputs": [
    {
     "name": "stdout",
     "output_type": "stream",
     "text": [
      "\n",
      "Tabulate Latex:\n",
      "\\begin{tabular}{lrrrr}\n",
      "\\hline\n",
      "         &     n &   Perc Metaphor &   Uniq Verb &   Avg Sentence Len \\\\\n",
      "\\hline\n",
      " MOH-X   &   647 &        0.486862 &         214 &            8       \\\\\n",
      " MOH     &  1603 &        0.248908 &         436 &            7.42608 \\\\\n",
      " TroFi-X &  1444 &        0.416205 &         857 &           29.347   \\\\\n",
      " TroFi   &  3737 &        0.435376 &          50 &           28.3514  \\\\\n",
      " VUA     & 23113 &        0.283563 &        2298 &           26.1132  \\\\\n",
      "\\hline\n",
      "\\end{tabular}\n"
     ]
    }
   ],
   "source": [
    "print('\\nTabulate Latex:')\n",
    "print(tabulate.tabulate(summary, headers=\"firstrow\", tablefmt=\"latex\"))"
   ]
  },
  {
   "cell_type": "code",
   "execution_count": null,
   "id": "097263b3",
   "metadata": {},
   "outputs": [],
   "source": []
  }
 ],
 "metadata": {
  "kernelspec": {
   "display_name": "Python 3 (ipykernel)",
   "language": "python",
   "name": "python3"
  },
  "language_info": {
   "codemirror_mode": {
    "name": "ipython",
    "version": 3
   },
   "file_extension": ".py",
   "mimetype": "text/x-python",
   "name": "python",
   "nbconvert_exporter": "python",
   "pygments_lexer": "ipython3",
   "version": "3.9.10"
  }
 },
 "nbformat": 4,
 "nbformat_minor": 5
}
