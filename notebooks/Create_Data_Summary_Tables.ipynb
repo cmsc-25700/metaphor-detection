{
 "cells": [
  {
   "cell_type": "markdown",
   "id": "351af9ba",
   "metadata": {},
   "source": [
    "# Recreate data summary tables from gao et al paper"
   ]
  },
  {
   "cell_type": "code",
   "execution_count": 1,
   "id": "52b55418",
   "metadata": {},
   "outputs": [],
   "source": [
    "import os\n",
    "import sys\n",
    "parent_dr = os.path.split(os.getcwd())[0]\n",
    "if parent_dr not in sys.path:\n",
    "    sys.path.append(parent_dr)"
   ]
  },
  {
   "cell_type": "code",
   "execution_count": 2,
   "id": "10a87487",
   "metadata": {},
   "outputs": [],
   "source": [
    "import tabulate\n",
    "from core.data.gao_data import *\n",
    "from core.data.util import get_classification_data_summary, get_sequencing_data_summary"
   ]
  },
  {
   "cell_type": "code",
   "execution_count": 3,
   "id": "378d79c3",
   "metadata": {},
   "outputs": [
    {
     "name": "stdout",
     "output_type": "stream",
     "text": [
      "Data directory: ../resources/metaphor-in-context/data\n"
     ]
    }
   ],
   "source": [
    "# gao et all data directory\n",
    "data_dir = os.path.join(\"..\",\"resources\", \"metaphor-in-context\", \"data\")\n",
    "print(f\"Data directory: {data_dir}\")"
   ]
  },
  {
   "cell_type": "code",
   "execution_count": 4,
   "id": "1a4865a9",
   "metadata": {},
   "outputs": [],
   "source": [
    "data_container = ExperimentData(data_dir)"
   ]
  },
  {
   "cell_type": "code",
   "execution_count": 5,
   "id": "17fa901a",
   "metadata": {},
   "outputs": [
    {
     "name": "stdout",
     "output_type": "stream",
     "text": [
      "MOH formatted nrow: 1603\n",
      "MOH train nrow: 1283\n",
      "MOH test nrow: 160\n",
      "MOH val nrow: 160\n",
      "MOH-X formatted svo nrow: 647\n",
      "MOH-X formatted svo cleaned nrow: 647\n",
      "TroFi formatted_all3737 nrow: 3737\n",
      "TroFi-X formatted svo nrow: 1444\n",
      "VUA formatted nrow: 23113\n",
      "VUA train nrow: 15516\n",
      "VUA train augmented nrow: 116622\n",
      "VUA train no val nrow: 12541\n",
      "VUA test nrow: 5873\n",
      "VUA val nrow: 1724\n",
      "VUA_seq train nrow: 6323\n",
      "VUA_seq test nrow: 2694\n",
      "VUA_seq val nrow: 1550\n"
     ]
    }
   ],
   "source": [
    "data_container.read_all_data(to_pandas=True)"
   ]
  },
  {
   "cell_type": "markdown",
   "id": "ed5e12a4",
   "metadata": {},
   "source": [
    "## CLASSIFICATION\n",
    "### Datasets to summarize"
   ]
  },
  {
   "cell_type": "code",
   "execution_count": 6,
   "id": "913c2f61",
   "metadata": {},
   "outputs": [],
   "source": [
    "classification_data = {\n",
    "    MOH_X: data_container.moh_x_formatted_svo_cleaned,\n",
    "    MOH: data_container.moh_formatted,\n",
    "    TROFI_X: data_container.trofi_x_formatted_svo,\n",
    "    TROFI: data_container.trofi_formatted_all,\n",
    "    VUA: data_container.vua_formatted}"
   ]
  },
  {
   "cell_type": "code",
   "execution_count": 7,
   "id": "509b0bba",
   "metadata": {},
   "outputs": [
    {
     "data": {
      "text/html": [
       "<div>\n",
       "<style scoped>\n",
       "    .dataframe tbody tr th:only-of-type {\n",
       "        vertical-align: middle;\n",
       "    }\n",
       "\n",
       "    .dataframe tbody tr th {\n",
       "        vertical-align: top;\n",
       "    }\n",
       "\n",
       "    .dataframe thead th {\n",
       "        text-align: right;\n",
       "    }\n",
       "</style>\n",
       "<table border=\"1\" class=\"dataframe\">\n",
       "  <thead>\n",
       "    <tr style=\"text-align: right;\">\n",
       "      <th></th>\n",
       "      <th></th>\n",
       "      <th>n</th>\n",
       "      <th>Perc Metaphor</th>\n",
       "      <th>Uniq Verb</th>\n",
       "      <th>Avg Sentence Len</th>\n",
       "    </tr>\n",
       "  </thead>\n",
       "  <tbody>\n",
       "    <tr>\n",
       "      <th>0</th>\n",
       "      <td>MOH-X</td>\n",
       "      <td>647</td>\n",
       "      <td>0.486862</td>\n",
       "      <td>214</td>\n",
       "      <td>8.000000</td>\n",
       "    </tr>\n",
       "    <tr>\n",
       "      <th>1</th>\n",
       "      <td>MOH</td>\n",
       "      <td>1603</td>\n",
       "      <td>0.248908</td>\n",
       "      <td>436</td>\n",
       "      <td>7.426076</td>\n",
       "    </tr>\n",
       "    <tr>\n",
       "      <th>2</th>\n",
       "      <td>TroFi-X</td>\n",
       "      <td>1444</td>\n",
       "      <td>0.416205</td>\n",
       "      <td>857</td>\n",
       "      <td>29.346953</td>\n",
       "    </tr>\n",
       "    <tr>\n",
       "      <th>3</th>\n",
       "      <td>TroFi</td>\n",
       "      <td>3737</td>\n",
       "      <td>0.435376</td>\n",
       "      <td>50</td>\n",
       "      <td>28.351351</td>\n",
       "    </tr>\n",
       "    <tr>\n",
       "      <th>4</th>\n",
       "      <td>VUA</td>\n",
       "      <td>23113</td>\n",
       "      <td>0.283563</td>\n",
       "      <td>2298</td>\n",
       "      <td>26.113226</td>\n",
       "    </tr>\n",
       "  </tbody>\n",
       "</table>\n",
       "</div>"
      ],
      "text/plain": [
       "                n  Perc Metaphor  Uniq Verb  Avg Sentence Len\n",
       "0    MOH-X    647       0.486862        214          8.000000\n",
       "1      MOH   1603       0.248908        436          7.426076\n",
       "2  TroFi-X   1444       0.416205        857         29.346953\n",
       "3    TroFi   3737       0.435376         50         28.351351\n",
       "4      VUA  23113       0.283563       2298         26.113226"
      ]
     },
     "execution_count": 7,
     "metadata": {},
     "output_type": "execute_result"
    }
   ],
   "source": [
    "classification_data_summary = get_classification_data_summary(classification_data)\n",
    "pd.DataFrame(classification_data_summary[1:],\n",
    "             columns = classification_data_summary[0])"
   ]
  },
  {
   "cell_type": "code",
   "execution_count": 8,
   "id": "bdd890bf",
   "metadata": {},
   "outputs": [
    {
     "name": "stdout",
     "output_type": "stream",
     "text": [
      "\n",
      "Tabulate Latex:\n",
      "\\begin{tabular}{lrrrr}\n",
      "\\hline\n",
      "         &     n &   Perc Metaphor &   Uniq Verb &   Avg Sentence Len \\\\\n",
      "\\hline\n",
      " MOH-X   &   647 &        0.486862 &         214 &            8       \\\\\n",
      " MOH     &  1603 &        0.248908 &         436 &            7.42608 \\\\\n",
      " TroFi-X &  1444 &        0.416205 &         857 &           29.347   \\\\\n",
      " TroFi   &  3737 &        0.435376 &          50 &           28.3514  \\\\\n",
      " VUA     & 23113 &        0.283563 &        2298 &           26.1132  \\\\\n",
      "\\hline\n",
      "\\end{tabular}\n"
     ]
    }
   ],
   "source": [
    "print('\\nTabulate Latex:')\n",
    "print(tabulate.tabulate(\n",
    "    classification_data_summary,\n",
    "    headers=\"firstrow\", tablefmt=\"latex\"))"
   ]
  },
  {
   "cell_type": "markdown",
   "id": "7c4abc05",
   "metadata": {},
   "source": [
    "## Sequence Labeling\n",
    "### Datasets to summarize"
   ]
  },
  {
   "cell_type": "code",
   "execution_count": 9,
   "id": "9f72349b",
   "metadata": {},
   "outputs": [],
   "source": [
    "sequencing_data = {\n",
    "    \"TRAIN\": data_container.vua_seq_formatted_train,\n",
    "    \"DEV\": data_container.vua_seq_formatted_val,\n",
    "    \"TEST\": data_container.vua_seq_formatted_test}"
   ]
  },
  {
   "cell_type": "code",
   "execution_count": 10,
   "id": "7ea09790",
   "metadata": {},
   "outputs": [
    {
     "name": "stdout",
     "output_type": "stream",
     "text": [
      "vocab size:  13843\n",
      "vocab size:  7458\n",
      "vocab size:  7200\n"
     ]
    },
    {
     "data": {
      "text/html": [
       "<div>\n",
       "<style scoped>\n",
       "    .dataframe tbody tr th:only-of-type {\n",
       "        vertical-align: middle;\n",
       "    }\n",
       "\n",
       "    .dataframe tbody tr th {\n",
       "        vertical-align: top;\n",
       "    }\n",
       "\n",
       "    .dataframe thead th {\n",
       "        text-align: right;\n",
       "    }\n",
       "</style>\n",
       "<table border=\"1\" class=\"dataframe\">\n",
       "  <thead>\n",
       "    <tr style=\"text-align: right;\">\n",
       "      <th></th>\n",
       "      <th></th>\n",
       "      <th>Uniq Tokens</th>\n",
       "      <th>n Tokens</th>\n",
       "      <th>Unique Sentences</th>\n",
       "      <th>Perc Metaphor</th>\n",
       "    </tr>\n",
       "  </thead>\n",
       "  <tbody>\n",
       "    <tr>\n",
       "      <th>0</th>\n",
       "      <td>TRAIN</td>\n",
       "      <td>13843</td>\n",
       "      <td>116622</td>\n",
       "      <td>6323</td>\n",
       "      <td>0.111909</td>\n",
       "    </tr>\n",
       "    <tr>\n",
       "      <th>1</th>\n",
       "      <td>DEV</td>\n",
       "      <td>7458</td>\n",
       "      <td>38628</td>\n",
       "      <td>1550</td>\n",
       "      <td>0.116159</td>\n",
       "    </tr>\n",
       "    <tr>\n",
       "      <th>2</th>\n",
       "      <td>TEST</td>\n",
       "      <td>7200</td>\n",
       "      <td>50175</td>\n",
       "      <td>2694</td>\n",
       "      <td>0.124425</td>\n",
       "    </tr>\n",
       "  </tbody>\n",
       "</table>\n",
       "</div>"
      ],
      "text/plain": [
       "          Uniq Tokens  n Tokens  Unique Sentences  Perc Metaphor\n",
       "0  TRAIN        13843    116622              6323       0.111909\n",
       "1    DEV         7458     38628              1550       0.116159\n",
       "2   TEST         7200     50175              2694       0.124425"
      ]
     },
     "execution_count": 10,
     "metadata": {},
     "output_type": "execute_result"
    }
   ],
   "source": [
    "sequencing_data_summary = get_sequencing_data_summary(sequencing_data)\n",
    "pd.DataFrame(sequencing_data_summary [1:],\n",
    "             columns = sequencing_data_summary [0])"
   ]
  },
  {
   "cell_type": "code",
   "execution_count": 11,
   "id": "6a1eb4eb",
   "metadata": {},
   "outputs": [
    {
     "name": "stdout",
     "output_type": "stream",
     "text": [
      "\n",
      "Tabulate Latex:\n",
      "\\begin{tabular}{lrrrr}\n",
      "\\hline\n",
      "       &   Uniq Tokens &   n Tokens &   Unique Sentences &   Perc Metaphor \\\\\n",
      "\\hline\n",
      " TRAIN &         13843 &     116622 &               6323 &        0.111909 \\\\\n",
      " DEV   &          7458 &      38628 &               1550 &        0.116159 \\\\\n",
      " TEST  &          7200 &      50175 &               2694 &        0.124425 \\\\\n",
      "\\hline\n",
      "\\end{tabular}\n"
     ]
    }
   ],
   "source": [
    "print('\\nTabulate Latex:')\n",
    "print(tabulate.tabulate(\n",
    "    sequencing_data_summary,\n",
    "    headers=\"firstrow\", tablefmt=\"latex\"))"
   ]
  },
  {
   "cell_type": "code",
   "execution_count": null,
   "id": "062d8ba8",
   "metadata": {},
   "outputs": [],
   "source": []
  }
 ],
 "metadata": {
  "kernelspec": {
   "display_name": "Python 3 (ipykernel)",
   "language": "python",
   "name": "python3"
  },
  "language_info": {
   "codemirror_mode": {
    "name": "ipython",
    "version": 3
   },
   "file_extension": ".py",
   "mimetype": "text/x-python",
   "name": "python",
   "nbconvert_exporter": "python",
   "pygments_lexer": "ipython3",
   "version": "3.9.10"
  }
 },
 "nbformat": 4,
 "nbformat_minor": 5
}
